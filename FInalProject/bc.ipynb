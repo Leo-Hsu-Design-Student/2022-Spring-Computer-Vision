{
 "cells": [
  {
   "cell_type": "code",
   "execution_count": 52,
   "metadata": {},
   "outputs": [],
   "source": [
    "import os\n",
    "import numpy as np\n",
    "from tqdm.auto import tqdm\n",
    "from PIL import Image, ImageEnhance, ImageOps\n",
    "import statistics\n",
    "\n",
    "def sort_files(x):\n",
    "    if x.endswith(\".png\"):\n",
    "        x = int(x[:-4])\n",
    "    else:\n",
    "        x = -1\n",
    "    return x\n",
    "\n",
    "data_path = \"dataset/public\"\n",
    "def sort_data(data_path=data_path) :\n",
    "    datas = []\n",
    "    for series in tqdm(os.listdir(data_path)) :\n",
    "        for sequence in tqdm(os.listdir(data_path + \"/\" + series)) :\n",
    "            data = []\n",
    "            files = os.listdir(data_path + \"/\" + series + \"/\" + sequence)\n",
    "            files.sort(key=lambda x:sort_files(x))\n",
    "            \n",
    "            files = [data_path + \"/\" + series + \"/\" + sequence + \"/\" + f for f in files]\n",
    "            \n",
    "\n",
    "            datas.append(files[1:])\n",
    "\n",
    "    print(len(datas))\n",
    "    return datas\n",
    "    \n",
    "             "
   ]
  },
  {
   "cell_type": "code",
   "execution_count": 53,
   "metadata": {},
   "outputs": [
    {
     "name": "stderr",
     "output_type": "stream",
     "text": [
      "100%|██████████| 26/26 [00:00<00:00, 1625.09it/s]\n",
      "100%|██████████| 1/1 [00:00<00:00, 50.00it/s]"
     ]
    },
    {
     "name": "stdout",
     "output_type": "stream",
     "text": [
      "26\n"
     ]
    },
    {
     "name": "stderr",
     "output_type": "stream",
     "text": [
      "\n"
     ]
    }
   ],
   "source": [
    "datas = sort_data(data_path)"
   ]
  },
  {
   "cell_type": "code",
   "execution_count": 54,
   "metadata": {},
   "outputs": [
    {
     "name": "stdout",
     "output_type": "stream",
     "text": [
      "0\n",
      "1\n",
      "2\n",
      "3\n",
      "4\n",
      "5\n",
      "6\n",
      "7\n",
      "8\n",
      "9\n",
      "10\n",
      "11\n",
      "12\n",
      "13\n",
      "14\n",
      "15\n",
      "16\n",
      "17\n",
      "18\n",
      "19\n",
      "20\n",
      "21\n",
      "22\n",
      "23\n",
      "24\n",
      "25\n"
     ]
    }
   ],
   "source": [
    "results = []\n",
    "\n",
    "for i in range(len(datas)):\n",
    "    print(i)\n",
    "    areas = []\n",
    "    for files in datas[i]:\n",
    "        img = np.array(Image.open(files))\n",
    "        img_threshold = (img>200).astype(int)\n",
    "        img = img*img_threshold\n",
    "        areas.append(img.sum())\n",
    "\n",
    "    bc = []\n",
    "    seeking_range = 13\n",
    "    ratio_max_local = 0.7#大\n",
    "    ratio_max_global = 0.2#小\n",
    "\n",
    "    if seeking_range%2==0:\n",
    "        seeking_range+=1\n",
    "\n",
    "    pad_areas = areas[0:seeking_range//2:1][::-1] + areas + areas[-1:-(seeking_range//2+1):-1][::-1]\n",
    "    max_areas = max(areas)\n",
    "\n",
    "    for i, area in enumerate(areas):\n",
    "        if area < max(pad_areas[i:i+seeking_range])*ratio_max_local or area < max_areas*ratio_max_global :\n",
    "            bc.append(0)\n",
    "        else:\n",
    "            bc.append(1)\n",
    "            \n",
    "    results.append(bc)"
   ]
  },
  {
   "cell_type": "code",
   "execution_count": 55,
   "metadata": {},
   "outputs": [
    {
     "name": "stderr",
     "output_type": "stream",
     "text": [
      "100%|██████████| 26/26 [00:00<00:00, 963.19it/s]\n",
      "100%|██████████| 1/1 [00:00<00:00, 31.25it/s]\n"
     ]
    }
   ],
   "source": [
    "for series in tqdm(os.listdir(data_path)) :\n",
    "    i = -1\n",
    "    for sequence in tqdm(os.listdir(data_path + \"/\" + series)) :\n",
    "        i += 1\n",
    "        with open(data_path + \"/\" + series + \"/\" + sequence + \"/conf.txt\", 'w') as f:\n",
    "            for cnt, item in enumerate(results[i]):\n",
    "                f.write(str(item)+\"\\n\")"
   ]
  },
  {
   "cell_type": "code",
   "execution_count": 57,
   "metadata": {},
   "outputs": [],
   "source": [
    "# for i, result in enumerate(results[23]): \n",
    "#     print(i, result)"
   ]
  },
  {
   "cell_type": "code",
   "execution_count": 301,
   "metadata": {},
   "outputs": [
    {
     "data": {
      "text/plain": [
       "'median'"
      ]
     },
     "execution_count": 301,
     "metadata": {},
     "output_type": "execute_result"
    }
   ],
   "source": [
    "\"median\"\n",
    "# bc = []\n",
    "# seeking_range = 11\n",
    "# ratio_median = 0.5\n",
    "# ratio_max = 0.1\n",
    "\n",
    "# if seeking_range%2==0:\n",
    "#     seeking_range+=1\n",
    "\n",
    "# pad_areas = areas[0:seeking_range//2:1][::-1] + areas + areas[-1:-(seeking_range//2+1):-1][::-1]\n",
    "# max_areas = max(areas)\n",
    "\n",
    "# for i, area in enumerate(areas):\n",
    "#     if area < statistics.median(pad_areas[i:i+seeking_range])*ratio_median or area < max_areas*ratio_max :\n",
    "#         bc.append(0)\n",
    "#     else:\n",
    "#         bc.append(1)"
   ]
  },
  {
   "cell_type": "code",
   "execution_count": 334,
   "metadata": {},
   "outputs": [],
   "source": [
    "\"max\"\n",
    "# bc = []\n",
    "# seeking_range = 17\n",
    "# ratio_max_local = 0.4#大\n",
    "# ratio_max_global = 0.15#小\n",
    "\n",
    "# if seeking_range%2==0:\n",
    "#     seeking_range+=1\n",
    "\n",
    "# pad_areas = areas[0:seeking_range//2:1][::-1] + areas + areas[-1:-(seeking_range//2+1):-1][::-1]\n",
    "# max_areas = max(areas)\n",
    "\n",
    "# for i, area in enumerate(areas):\n",
    "#     if area < max(pad_areas[i:i+seeking_range])*ratio_max_local or area < max_areas*ratio_max_global :\n",
    "#         bc.append(0)\n",
    "#     else:\n",
    "#         bc.append(1)"
   ]
  },
  {
   "cell_type": "code",
   "execution_count": 38,
   "metadata": {},
   "outputs": [],
   "source": [
    "# areas = []\n",
    "# for files in datas[23]:\n",
    "#     img = np.array(Image.open(files))\n",
    "#     img_threshold = (img>200).astype(int)\n",
    "#     img = img*img_threshold\n",
    "#     areas.append(img.sum())\n",
    "# # print(areas)\n",
    "# bc = []\n",
    "# seeking_range = 13\n",
    "# ratio_max_local = 0.7#大\n",
    "# ratio_max_global = 0.2#小\n",
    "\n",
    "# if seeking_range%2==0:\n",
    "#     seeking_range+=1\n",
    "\n",
    "# pad_areas = areas[0:seeking_range//2:1][::-1] + areas + areas[-1:-(seeking_range//2+1):-1][::-1]\n",
    "# max_areas = max(areas)\n",
    "\n",
    "# for i, area in enumerate(areas):\n",
    "#     if area < max(pad_areas[i:i+seeking_range])*ratio_max_local or area < max_areas*ratio_max_global :\n",
    "#         bc.append(0)\n",
    "#     else:\n",
    "#         bc.append(1)"
   ]
  },
  {
   "cell_type": "code",
   "execution_count": 37,
   "metadata": {},
   "outputs": [],
   "source": [
    "# bc"
   ]
  }
 ],
 "metadata": {
  "kernelspec": {
   "display_name": "Python 3.9.7 ('base')",
   "language": "python",
   "name": "python3"
  },
  "language_info": {
   "codemirror_mode": {
    "name": "ipython",
    "version": 3
   },
   "file_extension": ".py",
   "mimetype": "text/x-python",
   "name": "python",
   "nbconvert_exporter": "python",
   "pygments_lexer": "ipython3",
   "version": "3.9.7"
  },
  "orig_nbformat": 4,
  "vscode": {
   "interpreter": {
    "hash": "a077222d77dfe082b8f1dd562ad70e458ac2ab76993a0b248ab0476e32e9e8dd"
   }
  }
 },
 "nbformat": 4,
 "nbformat_minor": 2
}
